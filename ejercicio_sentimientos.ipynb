{
 "cells": [
  {
   "cell_type": "code",
   "execution_count": 4,
   "id": "e5e7f16a-00a9-4aac-9560-b3560fd9db62",
   "metadata": {},
   "outputs": [
    {
     "name": "stdout",
     "output_type": "stream",
     "text": [
      "Polaridad: 0.1\n",
      "Subjetividad: 0.4\n"
     ]
    }
   ],
   "source": [
    "from textblob import TextBlob\n",
    "\n",
    "# Crear un objeto TextBlob\n",
    "texto = TextBlob(\"TextBlob es una herramienta increíble para procesamiento de lenguaje natural.\")\n",
    "\n",
    "# Análisis de sentimientos\n",
    "analisis_sentimientos = texto.sentiment\n",
    "\n",
    "print(\"Polaridad:\", analisis_sentimientos.polarity)\n",
    "print(\"Subjetividad:\", analisis_sentimientos.subjectivity)"
   ]
  },
  {
   "cell_type": "code",
   "execution_count": null,
   "id": "1c5498dd-ca36-4cd1-ac50-97482a3c1bbf",
   "metadata": {},
   "outputs": [],
   "source": []
  }
 ],
 "metadata": {
  "kernelspec": {
   "display_name": "Python 3 (ipykernel)",
   "language": "python",
   "name": "python3"
  },
  "language_info": {
   "codemirror_mode": {
    "name": "ipython",
    "version": 3
   },
   "file_extension": ".py",
   "mimetype": "text/x-python",
   "name": "python",
   "nbconvert_exporter": "python",
   "pygments_lexer": "ipython3",
   "version": "3.10.13"
  }
 },
 "nbformat": 4,
 "nbformat_minor": 5
}
